{
  "nbformat": 4,
  "nbformat_minor": 0,
  "metadata": {
    "colab": {
      "name": "Assignment 2.ipynb",
      "provenance": [],
      "include_colab_link": true
    },
    "kernelspec": {
      "name": "python3",
      "display_name": "Python 3"
    },
    "accelerator": "GPU"
  },
  "cells": [
    {
      "cell_type": "markdown",
      "metadata": {
        "id": "view-in-github",
        "colab_type": "text"
      },
      "source": [
        "<a href=\"https://colab.research.google.com/github/Ravikrishna234/MachineLearning-new/blob/master/Assignment_2.ipynb\" target=\"_parent\"><img src=\"https://colab.research.google.com/assets/colab-badge.svg\" alt=\"Open In Colab\"/></a>"
      ]
    },
    {
      "cell_type": "markdown",
      "metadata": {
        "id": "rTvEGZ1f8PYV",
        "colab_type": "text"
      },
      "source": [
        "This assignment will help you to consolidate the concepts learnt in the session."
      ]
    },
    {
      "cell_type": "markdown",
      "metadata": {
        "id": "tKKl3JB68XsW",
        "colab_type": "text"
      },
      "source": [
        "**Write a Python Program to implement your own myreduce() function which works exactly like Python's built-in function reduce()**\n"
      ]
    },
    {
      "cell_type": "code",
      "metadata": {
        "id": "UGHBGrpB9agQ",
        "colab_type": "code",
        "colab": {
          "base_uri": "https://localhost:8080/",
          "height": 34
        },
        "outputId": "118185cf-0ba9-4fdf-e6a2-575a5c5d7958"
      },
      "source": [
        "def myreduce(i):\n",
        "   return i\n",
        "\n",
        "  \n",
        "l = [1,2,3,4,5]\n",
        "sum1 =  0\n",
        "for i in range(len(l)):\n",
        "  sum1 = sum1 +myreduce(l[i])\n",
        "print(\"The sum is\",sum1)"
      ],
      "execution_count": 1,
      "outputs": [
        {
          "output_type": "stream",
          "text": [
            "The sum is 15\n"
          ],
          "name": "stdout"
        }
      ]
    },
    {
      "cell_type": "markdown",
      "metadata": {
        "id": "tlg5FfNLAvtt",
        "colab_type": "text"
      },
      "source": [
        "**Write a Python program to implement your own myfilter() function which works exactly like Python's built-in function filter()**"
      ]
    },
    {
      "cell_type": "code",
      "metadata": {
        "id": "4VEMKZeR9MZ_",
        "colab_type": "code",
        "colab": {
          "base_uri": "https://localhost:8080/",
          "height": 34
        },
        "outputId": "c4fccfd6-c618-4af1-c72e-7f45b31740d1"
      },
      "source": [
        "alphabets = ['a', 'b', 'd', 'e', 'i', 'j', 'o']\n",
        "def filterVowels(alphabet):\n",
        "    vowels = ['a', 'e', 'i', 'o', 'u']\n",
        "\n",
        "    if(alphabet in vowels):\n",
        "        return True\n",
        "    else:\n",
        "        return False\n",
        "\n",
        "filteredVowels = list() \n",
        "for i in range(len(alphabets)):\n",
        "  c = filterVowels(alphabets[i])\n",
        "  if(c):\n",
        "    filteredVowels.append(alphabets[i])\n",
        "print(*filteredVowels)\n",
        "    "
      ],
      "execution_count": 8,
      "outputs": [
        {
          "output_type": "stream",
          "text": [
            "a e i o\n"
          ],
          "name": "stdout"
        }
      ]
    },
    {
      "cell_type": "code",
      "metadata": {
        "id": "p92fBtchX58s",
        "colab_type": "code",
        "colab": {}
      },
      "source": [
        ""
      ],
      "execution_count": 0,
      "outputs": []
    }
  ]
}