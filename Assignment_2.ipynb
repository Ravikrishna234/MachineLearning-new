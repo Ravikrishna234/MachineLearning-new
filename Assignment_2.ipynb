{
  "nbformat": 4,
  "nbformat_minor": 0,
  "metadata": {
    "colab": {
      "name": "Assignment 2.ipynb",
      "provenance": [],
      "collapsed_sections": []
    },
    "kernelspec": {
      "name": "python3",
      "display_name": "Python 3"
    }
  },
  "cells": [
    {
      "cell_type": "code",
      "metadata": {
        "id": "3EkJ30Nw_fjo",
        "colab_type": "code",
        "outputId": "2079e295-baf4-47ca-a402-0ff400a1ff6f",
        "colab": {
          "base_uri": "https://localhost:8080/",
          "height": 34
        }
      },
      "source": [
        "Q2. Write a Python program to get the single string from the two given strings, and separated by the space and swap the first two characters of each string? \n",
        "x= \"abc\"\n",
        "y=\"xyz\"\n",
        "x = list(x)\n",
        "y = list(y)\n",
        "# x[:2],y = y[:2],x\n",
        "x[:2],y[:2] = y[:2],x[:2]\n",
        "print(\"\".join(x)+\",\"+\"\".join())"
      ],
      "execution_count": 0,
      "outputs": [
        {
          "output_type": "stream",
          "text": [
            "xyc,abz\n"
          ],
          "name": "stdout"
        }
      ]
    },
    {
      "cell_type": "markdown",
      "metadata": {
        "id": "56arR9fvUokf",
        "colab_type": "text"
      },
      "source": [
        "Q1. Write a Python program to get the string from the given string where all the occurrence of its first char has been changed to '$,' except first char itself? "
      ]
    },
    {
      "cell_type": "code",
      "metadata": {
        "id": "w2EhARdVVZ5K",
        "colab_type": "code",
        "colab": {
          "base_uri": "https://localhost:8080/",
          "height": 50
        },
        "outputId": "0f12b566-c308-47ec-8356-25f8644426f5"
      },
      "source": [
        "x = str(input())\n",
        "myArray = []\n",
        "\n",
        "for i in x:\n",
        "  if i not in myArray:\n",
        "    myArray.append(i)\n",
        "    print(i,end=\"\")\n",
        "  else:\n",
        "    print(\"$\",end=\"\")\n",
        "    \n"
      ],
      "execution_count": 35,
      "outputs": [
        {
          "output_type": "stream",
          "text": [
            "prospect\n",
            "pros$ect"
          ],
          "name": "stdout"
        }
      ]
    },
    {
      "cell_type": "markdown",
      "metadata": {
        "id": "0T2vUjFLVfrG",
        "colab_type": "text"
      },
      "source": [
        "Q3. Write the Python program to add 'ing' at the end of the given string (length of the string should be at least 3). If given string already ends with 'ing,' then add 'ly' instead. If string length of the given string is less than 3, leave it unchanged?"
      ]
    },
    {
      "cell_type": "code",
      "metadata": {
        "id": "HxQntyQ8K5Np",
        "colab_type": "code",
        "cellView": "code",
        "outputId": "f20effc3-5202-40ca-adc5-cd9eed736418",
        "colab": {
          "base_uri": "https://localhost:8080/",
          "height": 34
        }
      },
      "source": [
        "#@title Default title text\n",
        "def add_string(str1):\n",
        "  length = len(str1)\n",
        "\n",
        "  if length > 2:\n",
        "    if str1[-3:] == 'ing':\n",
        "      str1 += 'ly'\n",
        "    else:\n",
        "      str1 += 'ing'\n",
        "\n",
        "  return str1\n",
        "print(add_string('ab'))"
      ],
      "execution_count": 0,
      "outputs": [
        {
          "output_type": "stream",
          "text": [
            "ab\n"
          ],
          "name": "stdout"
        }
      ]
    },
    {
      "cell_type": "markdown",
      "metadata": {
        "id": "zZ6bliG3WBpy",
        "colab_type": "text"
      },
      "source": [
        "Q4.  Write the Python program to find the first appearance of the substring 'not' and 'poor' from the given string, if 'not' follows the 'poor', replace the whole 'not'...' poor' substring with 'good'.Return the resulting string.  "
      ]
    },
    {
      "cell_type": "code",
      "metadata": {
        "id": "rhXYXYWROmwG",
        "colab_type": "code",
        "outputId": "539c922c-8beb-446c-f38f-7e5daaf741c8",
        "colab": {
          "base_uri": "https://localhost:8080/",
          "height": 50
        }
      },
      "source": [
        "def not_poor(str1):\n",
        "  snot = str1.find('not')\n",
        "  spoor = str1.find('poor')\n",
        "  \n",
        "\n",
        "  if spoor > snot and snot>0 and spoor>0:\n",
        "    str1 = str1.replace(str1[snot:(spoor+4)], 'good')\n",
        "    return str1\n",
        "  else:\n",
        "    return str1\n",
        "print(not_poor('The lyrics is not that poor!'))\n",
        "print(not_poor('The lyrics is poor!'))"
      ],
      "execution_count": 0,
      "outputs": [
        {
          "output_type": "stream",
          "text": [
            "The lyrics is good!\n",
            "The lyrics is poor!\n"
          ],
          "name": "stdout"
        }
      ]
    },
    {
      "cell_type": "code",
      "metadata": {
        "id": "-u1HFZG4TD2x",
        "colab_type": "code",
        "colab": {}
      },
      "source": [
        ""
      ],
      "execution_count": 0,
      "outputs": []
    }
  ]
}