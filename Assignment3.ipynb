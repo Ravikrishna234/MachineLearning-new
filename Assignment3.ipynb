{
 "cells": [
  {
   "cell_type": "code",
   "execution_count": 6,
   "metadata": {},
   "outputs": [
    {
     "name": "stdout",
     "output_type": "stream",
     "text": [
      "4\n",
      "2\n",
      "2.0\n"
     ]
    }
   ],
   "source": [
    "Write a function to compute 5/0 and use try/except to catch the exceptions.\n",
    "c,d=(int(input()),int(input()))\n",
    "try:\n",
    "    print(c/d)\n",
    "except(ZeroDivisionError):\n",
    "    print(\"A ZeroDivisionError occured\")\n"
   ]
  },
  {
   "cell_type": "code",
   "execution_count": null,
   "metadata": {},
   "outputs": [],
   "source": [
    "Implement a Python program to generate all sentences where subject is in [\"Americans\", \"Indians\"] and verb is in [\"Play\", \"watch\"] and the object is in [\"Baseball\",\"cricket\"]. \n",
    " \n",
    "Hint: Subject,Verb and Object should be declared in the program as shown below. \n",
    " "
   ]
  },
  {
   "cell_type": "code",
   "execution_count": 16,
   "metadata": {},
   "outputs": [
    {
     "name": "stdout",
     "output_type": "stream",
     "text": [
      "Americans playBaseball\n",
      "Americans playCricket\n",
      "Americans watchBaseball\n",
      "Americans watchCricket\n",
      "IndiansplayBaseball\n",
      "IndiansplayCricket\n",
      "IndianswatchBaseball\n",
      "IndianswatchCricket\n"
     ]
    }
   ],
   "source": [
    "subjects=[\"Americans \",\"Indians\"]\n",
    "verbs=[\"play\",\"watch\"]\n",
    "objects=[\"Baseball\",\"Cricket\"] \n",
    "results=[(sub+\"\"+ve+\"\"+obj) for sub in subjects for ve in verbs for obj in objects]\n",
    "for result in results:\n",
    "    print(result,end='\\n')\n"
   ]
  },
  {
   "cell_type": "code",
   "execution_count": null,
   "metadata": {},
   "outputs": [],
   "source": [
    "Write a function so that the columns of the output matrix are powers of the input vector.  \n",
    "The order of the powers is determined by the increasing boolean argument. Specifically, when              increasing is False, the i-th output column is the input vector raised element-wise to the power                of N - i - 1.  \n",
    " \n",
    "HINT: Such a matrix with a geometric progression in each row is named for Alexandre               Theophile Vandermonde. \n",
    " \n",
    " "
   ]
  },
  {
   "cell_type": "code",
   "execution_count": 19,
   "metadata": {},
   "outputs": [
    {
     "data": {
      "text/plain": [
       "array([[  1,   1,   1,   1],\n",
       "       [  1,   2,   4,   8],\n",
       "       [  1,   3,   9,  27],\n",
       "       [  1,   5,  25, 125]])"
      ]
     },
     "execution_count": 19,
     "metadata": {},
     "output_type": "execute_result"
    }
   ],
   "source": [
    "import numpy as np\n",
    "x = np.array([1, 2, 3, 5])\n",
    "np.vander(x,increasing = True)"
   ]
  }
 ],
 "metadata": {
  "kernelspec": {
   "display_name": "Python 3",
   "language": "python",
   "name": "python3"
  },
  "language_info": {
   "codemirror_mode": {
    "name": "ipython",
    "version": 3
   },
   "file_extension": ".py",
   "mimetype": "text/x-python",
   "name": "python",
   "nbconvert_exporter": "python",
   "pygments_lexer": "ipython3",
   "version": "3.6.5"
  }
 },
 "nbformat": 4,
 "nbformat_minor": 2
}
